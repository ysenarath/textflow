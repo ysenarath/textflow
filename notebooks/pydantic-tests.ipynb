{
 "cells": [
  {
   "cell_type": "code",
   "execution_count": 1,
   "metadata": {},
   "outputs": [],
   "source": [
    "from textflow.database import db, op\n",
    "\n",
    "from textflow.schemas.user import User"
   ]
  },
  {
   "cell_type": "code",
   "execution_count": 2,
   "metadata": {},
   "outputs": [],
   "source": [
    "import json\n",
    "\n",
    "with open('../examples/basic_server/config.json') as fp:\n",
    "    config = json.load(fp)\n",
    "\n",
    "# config"
   ]
  },
  {
   "cell_type": "code",
   "execution_count": 3,
   "metadata": {},
   "outputs": [],
   "source": [
    "db.init_context(config)"
   ]
  },
  {
   "cell_type": "code",
   "execution_count": 4,
   "metadata": {},
   "outputs": [],
   "source": [
    "with db.session() as session:\n",
    "    user = op.get_user_by(session, username='admin')"
   ]
  },
  {
   "cell_type": "code",
   "execution_count": 5,
   "metadata": {},
   "outputs": [
    {
     "data": {
      "text/plain": [
       "User(username='admin', password=None, disabled=False, hashed_password='pbkdf2:sha256:600000$RYouJbowMzuoBYSC$f6e275bf763362dae503d084ab864e1ab5e595f484e3142c062b2efbbedc6a1f', id=1)"
      ]
     },
     "execution_count": 5,
     "metadata": {},
     "output_type": "execute_result"
    }
   ],
   "source": [
    "user"
   ]
  },
  {
   "cell_type": "code",
   "execution_count": 10,
   "metadata": {},
   "outputs": [
    {
     "name": "stdout",
     "output_type": "stream",
     "text": [
      "{'disabled', 'username', 'hashed_password', 'id'}\n"
     ]
    }
   ],
   "source": [
    "with db.session() as session:\n",
    "    op.create_user(session, user=User(username='admin3', password='admin'))"
   ]
  },
  {
   "cell_type": "code",
   "execution_count": 11,
   "metadata": {},
   "outputs": [
    {
     "data": {
      "text/plain": [
       "[User(username='admin', password=None, disabled=False, hashed_password='pbkdf2:sha256:600000$RYouJbowMzuoBYSC$f6e275bf763362dae503d084ab864e1ab5e595f484e3142c062b2efbbedc6a1f', id=1),\n",
       " User(username='admin2', password=None, disabled=False, hashed_password='pbkdf2:sha256:600000$9Dzkt9bYTjYFuDJN$6e8c19198b797d9c1ca44aa96899bc19cbab353d6861485c937dbfe3c9f2a186', id=2),\n",
       " User(username='admin3', password=None, disabled=False, hashed_password='pbkdf2:sha256:600000$QW2ljXSagWKSSCT8$891e2a5bb5c22b3ba4e6756f20d2d493af85dc11b12d21998d2199d90231345c', id=3)]"
      ]
     },
     "execution_count": 11,
     "metadata": {},
     "output_type": "execute_result"
    }
   ],
   "source": [
    "with db.session() as session:\n",
    "    users = op.list_users(session)\n",
    "\n",
    "users"
   ]
  },
  {
   "cell_type": "code",
   "execution_count": 15,
   "metadata": {},
   "outputs": [
    {
     "data": {
      "text/plain": [
       "False"
      ]
     },
     "execution_count": 15,
     "metadata": {},
     "output_type": "execute_result"
    }
   ],
   "source": [
    "users[-3].verify_password('admin')"
   ]
  },
  {
   "cell_type": "code",
   "execution_count": null,
   "metadata": {},
   "outputs": [],
   "source": []
  }
 ],
 "metadata": {
  "kernelspec": {
   "display_name": "venv",
   "language": "python",
   "name": "python3"
  },
  "language_info": {
   "codemirror_mode": {
    "name": "ipython",
    "version": 3
   },
   "file_extension": ".py",
   "mimetype": "text/x-python",
   "name": "python",
   "nbconvert_exporter": "python",
   "pygments_lexer": "ipython3",
   "version": "3.9.13"
  },
  "orig_nbformat": 4
 },
 "nbformat": 4,
 "nbformat_minor": 2
}
